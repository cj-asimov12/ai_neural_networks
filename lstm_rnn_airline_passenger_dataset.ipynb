{
 "cells": [
  {
   "cell_type": "markdown",
   "id": "71a379a5",
   "metadata": {},
   "source": [
    "# Airline Passenger LSTM (RNN)"
   ]
  },
  {
   "cell_type": "markdown",
   "id": "af865cfd",
   "metadata": {},
   "source": [
    "## Loading required packages"
   ]
  },
  {
   "cell_type": "code",
   "execution_count": 1,
   "id": "72dcfdb0",
   "metadata": {},
   "outputs": [],
   "source": [
    "import math\n",
    "import numpy as np \n",
    "import pandas as pd \n",
    "import matplotlib.pyplot as plt\n",
    "from pandas import read_csv\n",
    "from keras.models import Sequential\n",
    "from keras.layers import Dense\n",
    "from keras.layers import LSTM\n",
    "from sklearn.preprocessing import MinMaxScaler\n",
    "from sklearn.metrics import mean_squared_error"
   ]
  },
  {
   "cell_type": "markdown",
   "id": "800bc910",
   "metadata": {},
   "source": [
    "## Loading dataset "
   ]
  },
  {
   "cell_type": "code",
   "execution_count": 190,
   "id": "b5e3b8fb",
   "metadata": {},
   "outputs": [],
   "source": [
    "df = pd.read_csv(\"C:\\\\Users\\\\black\\\\Desktop\\\\ai_py\\\\datasets\\\\airline-passengers.csv\")"
   ]
  },
  {
   "cell_type": "code",
   "execution_count": 191,
   "id": "89f62b0d",
   "metadata": {
    "scrolled": true
   },
   "outputs": [
    {
     "data": {
      "text/plain": [
       "<bound method NDFrame.head of     \"Month\",\"Passengers\"\n",
       "0          \"1949-01\",112\n",
       "1          \"1949-02\",118\n",
       "2          \"1949-03\",132\n",
       "3          \"1949-04\",129\n",
       "4          \"1949-05\",121\n",
       "..                   ...\n",
       "139        \"1960-08\",606\n",
       "140        \"1960-09\",508\n",
       "141        \"1960-10\",461\n",
       "142        \"1960-11\",390\n",
       "143        \"1960-12\",432\n",
       "\n",
       "[144 rows x 1 columns]>"
      ]
     },
     "execution_count": 191,
     "metadata": {},
     "output_type": "execute_result"
    }
   ],
   "source": [
    "df.head"
   ]
  },
  {
   "cell_type": "markdown",
   "id": "46930fd9",
   "metadata": {},
   "source": [
    "## Preparing the data"
   ]
  },
  {
   "cell_type": "code",
   "execution_count": 192,
   "id": "2aa95555",
   "metadata": {},
   "outputs": [],
   "source": [
    "df1 = df['\"Month\",\"Passengers\"'].str.split(',', expand=True) "
   ]
  },
  {
   "cell_type": "code",
   "execution_count": 193,
   "id": "cd858dc7",
   "metadata": {},
   "outputs": [],
   "source": [
    "df1.columns = (\"Month\", \"Passengers\")"
   ]
  },
  {
   "cell_type": "code",
   "execution_count": 194,
   "id": "8d86fb58",
   "metadata": {},
   "outputs": [],
   "source": [
    "df1[\"Month\"] = df1[\"Month\"].str.replace('\"', \"\")"
   ]
  },
  {
   "cell_type": "code",
   "execution_count": 195,
   "id": "e01ab43b",
   "metadata": {},
   "outputs": [
    {
     "data": {
      "text/html": [
       "<div>\n",
       "<style scoped>\n",
       "    .dataframe tbody tr th:only-of-type {\n",
       "        vertical-align: middle;\n",
       "    }\n",
       "\n",
       "    .dataframe tbody tr th {\n",
       "        vertical-align: top;\n",
       "    }\n",
       "\n",
       "    .dataframe thead th {\n",
       "        text-align: right;\n",
       "    }\n",
       "</style>\n",
       "<table border=\"1\" class=\"dataframe\">\n",
       "  <thead>\n",
       "    <tr style=\"text-align: right;\">\n",
       "      <th></th>\n",
       "      <th>Month</th>\n",
       "      <th>Passengers</th>\n",
       "    </tr>\n",
       "  </thead>\n",
       "  <tbody>\n",
       "    <tr>\n",
       "      <th>0</th>\n",
       "      <td>1949-01</td>\n",
       "      <td>112</td>\n",
       "    </tr>\n",
       "    <tr>\n",
       "      <th>1</th>\n",
       "      <td>1949-02</td>\n",
       "      <td>118</td>\n",
       "    </tr>\n",
       "    <tr>\n",
       "      <th>2</th>\n",
       "      <td>1949-03</td>\n",
       "      <td>132</td>\n",
       "    </tr>\n",
       "    <tr>\n",
       "      <th>3</th>\n",
       "      <td>1949-04</td>\n",
       "      <td>129</td>\n",
       "    </tr>\n",
       "    <tr>\n",
       "      <th>4</th>\n",
       "      <td>1949-05</td>\n",
       "      <td>121</td>\n",
       "    </tr>\n",
       "    <tr>\n",
       "      <th>...</th>\n",
       "      <td>...</td>\n",
       "      <td>...</td>\n",
       "    </tr>\n",
       "    <tr>\n",
       "      <th>139</th>\n",
       "      <td>1960-08</td>\n",
       "      <td>606</td>\n",
       "    </tr>\n",
       "    <tr>\n",
       "      <th>140</th>\n",
       "      <td>1960-09</td>\n",
       "      <td>508</td>\n",
       "    </tr>\n",
       "    <tr>\n",
       "      <th>141</th>\n",
       "      <td>1960-10</td>\n",
       "      <td>461</td>\n",
       "    </tr>\n",
       "    <tr>\n",
       "      <th>142</th>\n",
       "      <td>1960-11</td>\n",
       "      <td>390</td>\n",
       "    </tr>\n",
       "    <tr>\n",
       "      <th>143</th>\n",
       "      <td>1960-12</td>\n",
       "      <td>432</td>\n",
       "    </tr>\n",
       "  </tbody>\n",
       "</table>\n",
       "<p>144 rows × 2 columns</p>\n",
       "</div>"
      ],
      "text/plain": [
       "       Month Passengers\n",
       "0    1949-01        112\n",
       "1    1949-02        118\n",
       "2    1949-03        132\n",
       "3    1949-04        129\n",
       "4    1949-05        121\n",
       "..       ...        ...\n",
       "139  1960-08        606\n",
       "140  1960-09        508\n",
       "141  1960-10        461\n",
       "142  1960-11        390\n",
       "143  1960-12        432\n",
       "\n",
       "[144 rows x 2 columns]"
      ]
     },
     "execution_count": 195,
     "metadata": {},
     "output_type": "execute_result"
    }
   ],
   "source": [
    "df1"
   ]
  },
  {
   "cell_type": "code",
   "execution_count": 196,
   "id": "768ffd47",
   "metadata": {},
   "outputs": [
    {
     "name": "stdout",
     "output_type": "stream",
     "text": [
      "<class 'pandas.core.frame.DataFrame'>\n",
      "RangeIndex: 144 entries, 0 to 143\n",
      "Data columns (total 2 columns):\n",
      " #   Column      Non-Null Count  Dtype \n",
      "---  ------      --------------  ----- \n",
      " 0   Month       144 non-null    object\n",
      " 1   Passengers  144 non-null    object\n",
      "dtypes: object(2)\n",
      "memory usage: 2.4+ KB\n"
     ]
    }
   ],
   "source": [
    "df1.info()"
   ]
  },
  {
   "cell_type": "code",
   "execution_count": 197,
   "id": "3286b20b",
   "metadata": {},
   "outputs": [],
   "source": [
    "df1[\"Month\"] = pd.to_datetime(df1[\"Month\"], format=\"%Y-%m\")"
   ]
  },
  {
   "cell_type": "code",
   "execution_count": 198,
   "id": "c370c9df",
   "metadata": {
    "scrolled": true
   },
   "outputs": [
    {
     "data": {
      "text/html": [
       "<div>\n",
       "<style scoped>\n",
       "    .dataframe tbody tr th:only-of-type {\n",
       "        vertical-align: middle;\n",
       "    }\n",
       "\n",
       "    .dataframe tbody tr th {\n",
       "        vertical-align: top;\n",
       "    }\n",
       "\n",
       "    .dataframe thead th {\n",
       "        text-align: right;\n",
       "    }\n",
       "</style>\n",
       "<table border=\"1\" class=\"dataframe\">\n",
       "  <thead>\n",
       "    <tr style=\"text-align: right;\">\n",
       "      <th></th>\n",
       "      <th>Month</th>\n",
       "      <th>Passengers</th>\n",
       "    </tr>\n",
       "  </thead>\n",
       "  <tbody>\n",
       "    <tr>\n",
       "      <th>0</th>\n",
       "      <td>1949-01-01</td>\n",
       "      <td>112</td>\n",
       "    </tr>\n",
       "    <tr>\n",
       "      <th>1</th>\n",
       "      <td>1949-02-01</td>\n",
       "      <td>118</td>\n",
       "    </tr>\n",
       "    <tr>\n",
       "      <th>2</th>\n",
       "      <td>1949-03-01</td>\n",
       "      <td>132</td>\n",
       "    </tr>\n",
       "    <tr>\n",
       "      <th>3</th>\n",
       "      <td>1949-04-01</td>\n",
       "      <td>129</td>\n",
       "    </tr>\n",
       "    <tr>\n",
       "      <th>4</th>\n",
       "      <td>1949-05-01</td>\n",
       "      <td>121</td>\n",
       "    </tr>\n",
       "    <tr>\n",
       "      <th>...</th>\n",
       "      <td>...</td>\n",
       "      <td>...</td>\n",
       "    </tr>\n",
       "    <tr>\n",
       "      <th>139</th>\n",
       "      <td>1960-08-01</td>\n",
       "      <td>606</td>\n",
       "    </tr>\n",
       "    <tr>\n",
       "      <th>140</th>\n",
       "      <td>1960-09-01</td>\n",
       "      <td>508</td>\n",
       "    </tr>\n",
       "    <tr>\n",
       "      <th>141</th>\n",
       "      <td>1960-10-01</td>\n",
       "      <td>461</td>\n",
       "    </tr>\n",
       "    <tr>\n",
       "      <th>142</th>\n",
       "      <td>1960-11-01</td>\n",
       "      <td>390</td>\n",
       "    </tr>\n",
       "    <tr>\n",
       "      <th>143</th>\n",
       "      <td>1960-12-01</td>\n",
       "      <td>432</td>\n",
       "    </tr>\n",
       "  </tbody>\n",
       "</table>\n",
       "<p>144 rows × 2 columns</p>\n",
       "</div>"
      ],
      "text/plain": [
       "         Month Passengers\n",
       "0   1949-01-01        112\n",
       "1   1949-02-01        118\n",
       "2   1949-03-01        132\n",
       "3   1949-04-01        129\n",
       "4   1949-05-01        121\n",
       "..         ...        ...\n",
       "139 1960-08-01        606\n",
       "140 1960-09-01        508\n",
       "141 1960-10-01        461\n",
       "142 1960-11-01        390\n",
       "143 1960-12-01        432\n",
       "\n",
       "[144 rows x 2 columns]"
      ]
     },
     "execution_count": 198,
     "metadata": {},
     "output_type": "execute_result"
    }
   ],
   "source": [
    "df1"
   ]
  },
  {
   "cell_type": "markdown",
   "id": "3008f608",
   "metadata": {},
   "source": [
    "## Visualizing the data "
   ]
  },
  {
   "cell_type": "code",
   "execution_count": 199,
   "id": "7a8fa99c",
   "metadata": {
    "scrolled": true
   },
   "outputs": [
    {
     "data": {
      "image/png": "[encoded data removed]",
      "text/plain": [
       "<Figure size 432x288 with 1 Axes>"
      ]
     },
     "metadata": {
      "needs_background": "light"
     },
     "output_type": "display_data"
    }
   ],
   "source": [
    "dataset = df1.iloc[:,1].values\n",
    "plt.plot(dataset)\n",
    "plt.xlabel(\"Time\")\n",
    "plt.ylabel(\"Number of Passengers\")\n",
    "plt.title(\"International Airline Passengers\")\n",
    "plt.show()"
   ]
  },
  {
   "cell_type": "markdown",
   "id": "5c4eee77",
   "metadata": {},
   "source": [
    "## Data Preprocessing "
   ]
  },
  {
   "cell_type": "code",
   "execution_count": 224,
   "id": "51a66084",
   "metadata": {},
   "outputs": [
    {
     "data": {
      "text/plain": [
       "(144, 1)"
      ]
     },
     "execution_count": 224,
     "metadata": {},
     "output_type": "execute_result"
    }
   ],
   "source": [
    "dataset = dataset.reshape(-1,1)\n",
    "dataset = dataset.astype(\"float32\")\n",
    "dataset.shape"
   ]
  },
  {
   "cell_type": "code",
   "execution_count": 225,
   "id": "2ce37ac9",
   "metadata": {},
   "outputs": [],
   "source": [
    "scaler = MinMaxScaler(feature_range=(0,1))\n",
    "dataset = scaler.fit_transform(dataset)"
   ]
  },
  {
   "cell_type": "markdown",
   "id": "39177b35",
   "metadata": {},
   "source": [
    "## Splitting the data into train and test sets "
   ]
  },
  {
   "cell_type": "code",
   "execution_count": 226,
   "id": "2f451dcb",
   "metadata": {},
   "outputs": [
    {
     "name": "stdout",
     "output_type": "stream",
     "text": [
      "train_size : 72, test_size : 72\n"
     ]
    }
   ],
   "source": [
    "train_size = int(len(dataset)*0.50)\n",
    "test_size = len(dataset) - train_size\n",
    "train = dataset[0:train_size,:]\n",
    "test = dataset[train_size:len(dataset),:]\n",
    "print('train_size : {}, test_size : {}'.format(len(train),len(test)))"
   ]
  },
  {
   "cell_type": "code",
   "execution_count": 227,
   "id": "a034230f",
   "metadata": {},
   "outputs": [],
   "source": [
    "timestamp=10\n",
    "dataX = []\n",
    "dataY = []\n",
    "for i in range(len(train)-timestamp-1):\n",
    "    a = train[i:(i+timestamp),0]\n",
    "    dataX.append(a)\n",
    "    dataY.append(train[i+timestamp,0])\n",
    "trainX = np.array(dataX)\n",
    "trainY = np.array(dataY)"
   ]
  },
  {
   "cell_type": "code",
   "execution_count": 228,
   "id": "1da2314b",
   "metadata": {},
   "outputs": [],
   "source": [
    "timestep=10\n",
    "dataX = []\n",
    "dataY = []\n",
    "for i in range(len(test)-timestamp-1):\n",
    "    a = test[i:(i+timestamp),0]\n",
    "    dataX.append(a)\n",
    "    dataY.append(test[i+timestamp,0])\n",
    "testX = np.array(dataX)\n",
    "testY = np.array(dataY)"
   ]
  },
  {
   "cell_type": "code",
   "execution_count": 229,
   "id": "15257b03",
   "metadata": {},
   "outputs": [],
   "source": [
    "trainX = np.reshape(trainX,(trainX.shape[0],1,trainX.shape[1]))\n",
    "testX = np.reshape(testX,(testX.shape[0],1,testX.shape[1]))"
   ]
  },
  {
   "cell_type": "markdown",
   "id": "11568885",
   "metadata": {},
   "source": [
    "## Building Model-1  "
   ]
  },
  {
   "cell_type": "code",
   "execution_count": 211,
   "id": "29a5a13b",
   "metadata": {},
   "outputs": [
    {
     "name": "stdout",
     "output_type": "stream",
     "text": [
      "Epoch 1/100\n",
      "61/61 [==============================] - 1s 2ms/step - loss: 0.0193\n",
      "Epoch 2/100\n",
      "61/61 [==============================] - 0s 2ms/step - loss: 0.0048\n",
      "Epoch 3/100\n",
      "61/61 [==============================] - 0s 2ms/step - loss: 0.0038\n",
      "Epoch 4/100\n",
      "61/61 [==============================] - 0s 2ms/step - loss: 0.0036\n",
      "Epoch 5/100\n",
      "61/61 [==============================] - 0s 2ms/step - loss: 0.0033\n",
      "Epoch 6/100\n",
      "61/61 [==============================] - 0s 2ms/step - loss: 0.0033\n",
      "Epoch 7/100\n",
      "61/61 [==============================] - 0s 2ms/step - loss: 0.0029\n",
      "Epoch 8/100\n",
      "61/61 [==============================] - 0s 2ms/step - loss: 0.0027\n",
      "Epoch 9/100\n",
      "61/61 [==============================] - 0s 2ms/step - loss: 0.0026\n",
      "Epoch 10/100\n",
      "61/61 [==============================] - 0s 2ms/step - loss: 0.0026\n",
      "Epoch 11/100\n",
      "61/61 [==============================] - 0s 2ms/step - loss: 0.0024\n",
      "Epoch 12/100\n",
      "61/61 [==============================] - 0s 2ms/step - loss: 0.0023\n",
      "Epoch 13/100\n",
      "61/61 [==============================] - 0s 2ms/step - loss: 0.0023\n",
      "Epoch 14/100\n",
      "61/61 [==============================] - 0s 2ms/step - loss: 0.0022\n",
      "Epoch 15/100\n",
      "61/61 [==============================] - 0s 2ms/step - loss: 0.0021\n",
      "Epoch 16/100\n",
      "61/61 [==============================] - 0s 2ms/step - loss: 0.0021\n",
      "Epoch 17/100\n",
      "61/61 [==============================] - 0s 2ms/step - loss: 0.0020\n",
      "Epoch 18/100\n",
      "61/61 [==============================] - 0s 2ms/step - loss: 0.0020\n",
      "Epoch 19/100\n",
      "61/61 [==============================] - 0s 2ms/step - loss: 0.0019\n",
      "Epoch 20/100\n",
      "61/61 [==============================] - 0s 2ms/step - loss: 0.0018\n",
      "Epoch 21/100\n",
      "61/61 [==============================] - 0s 2ms/step - loss: 0.0018\n",
      "Epoch 22/100\n",
      "61/61 [==============================] - 0s 2ms/step - loss: 0.0017\n",
      "Epoch 23/100\n",
      "61/61 [==============================] - 0s 2ms/step - loss: 0.0016\n",
      "Epoch 24/100\n",
      "61/61 [==============================] - 0s 2ms/step - loss: 0.0018\n",
      "Epoch 25/100\n",
      "61/61 [==============================] - 0s 2ms/step - loss: 0.0016\n",
      "Epoch 26/100\n",
      "61/61 [==============================] - 0s 2ms/step - loss: 0.0017\n",
      "Epoch 27/100\n",
      "61/61 [==============================] - 0s 2ms/step - loss: 0.0016\n",
      "Epoch 28/100\n",
      "61/61 [==============================] - 0s 2ms/step - loss: 0.0015\n",
      "Epoch 29/100\n",
      "61/61 [==============================] - 0s 2ms/step - loss: 0.0014\n",
      "Epoch 30/100\n",
      "61/61 [==============================] - 0s 2ms/step - loss: 0.0014\n",
      "Epoch 31/100\n",
      "61/61 [==============================] - 0s 2ms/step - loss: 0.0013\n",
      "Epoch 32/100\n",
      "61/61 [==============================] - 0s 2ms/step - loss: 0.0013\n",
      "Epoch 33/100\n",
      "61/61 [==============================] - 0s 2ms/step - loss: 0.0013\n",
      "Epoch 34/100\n",
      "61/61 [==============================] - 0s 2ms/step - loss: 0.0012\n",
      "Epoch 35/100\n",
      "61/61 [==============================] - 0s 2ms/step - loss: 0.0014\n",
      "Epoch 36/100\n",
      "61/61 [==============================] - 0s 2ms/step - loss: 0.0012\n",
      "Epoch 37/100\n",
      "61/61 [==============================] - 0s 2ms/step - loss: 0.0013\n",
      "Epoch 38/100\n",
      "61/61 [==============================] - 0s 2ms/step - loss: 0.0013\n",
      "Epoch 39/100\n",
      "61/61 [==============================] - 0s 2ms/step - loss: 0.0012\n",
      "Epoch 40/100\n",
      "61/61 [==============================] - 0s 2ms/step - loss: 0.0012\n",
      "Epoch 41/100\n",
      "61/61 [==============================] - 0s 2ms/step - loss: 0.0012\n",
      "Epoch 42/100\n",
      "61/61 [==============================] - 0s 2ms/step - loss: 0.0011\n",
      "Epoch 43/100\n",
      "61/61 [==============================] - 0s 2ms/step - loss: 0.0012\n",
      "Epoch 44/100\n",
      "61/61 [==============================] - 0s 2ms/step - loss: 0.0012\n",
      "Epoch 45/100\n",
      "61/61 [==============================] - 0s 2ms/step - loss: 0.0011\n",
      "Epoch 46/100\n",
      "61/61 [==============================] - 0s 2ms/step - loss: 0.0012\n",
      "Epoch 47/100\n",
      "61/61 [==============================] - 0s 2ms/step - loss: 0.0012\n",
      "Epoch 48/100\n",
      "61/61 [==============================] - 0s 2ms/step - loss: 0.0012\n",
      "Epoch 49/100\n",
      "61/61 [==============================] - 0s 2ms/step - loss: 0.0012\n",
      "Epoch 50/100\n",
      "61/61 [==============================] - 0s 2ms/step - loss: 0.0012\n",
      "Epoch 51/100\n",
      "61/61 [==============================] - 0s 2ms/step - loss: 0.0011\n",
      "Epoch 52/100\n",
      "61/61 [==============================] - 0s 2ms/step - loss: 0.0011\n",
      "Epoch 53/100\n",
      "61/61 [==============================] - 0s 2ms/step - loss: 0.0011\n",
      "Epoch 54/100\n",
      "61/61 [==============================] - 0s 2ms/step - loss: 0.0010\n",
      "Epoch 55/100\n",
      "61/61 [==============================] - 0s 2ms/step - loss: 0.0011\n",
      "Epoch 56/100\n",
      "61/61 [==============================] - 0s 2ms/step - loss: 0.0011\n",
      "Epoch 57/100\n",
      "61/61 [==============================] - 0s 2ms/step - loss: 0.0010\n",
      "Epoch 58/100\n",
      "61/61 [==============================] - 0s 2ms/step - loss: 0.0011\n",
      "Epoch 59/100\n",
      "61/61 [==============================] - 0s 2ms/step - loss: 0.0010\n",
      "Epoch 60/100\n",
      "61/61 [==============================] - 0s 2ms/step - loss: 0.0011\n",
      "Epoch 61/100\n",
      "61/61 [==============================] - 0s 2ms/step - loss: 0.0011\n",
      "Epoch 62/100\n",
      "61/61 [==============================] - 0s 2ms/step - loss: 9.9223e-04\n",
      "Epoch 63/100\n",
      "61/61 [==============================] - 0s 2ms/step - loss: 0.0011\n",
      "Epoch 64/100\n",
      "61/61 [==============================] - 0s 2ms/step - loss: 0.0012\n",
      "Epoch 65/100\n",
      "61/61 [==============================] - 0s 2ms/step - loss: 9.9403e-04\n",
      "Epoch 66/100\n",
      "61/61 [==============================] - 0s 2ms/step - loss: 9.2691e-04\n",
      "Epoch 67/100\n",
      "61/61 [==============================] - 0s 2ms/step - loss: 0.0012\n",
      "Epoch 68/100\n",
      "61/61 [==============================] - 0s 2ms/step - loss: 9.9625e-04\n",
      "Epoch 69/100\n",
      "61/61 [==============================] - 0s 2ms/step - loss: 0.0011\n",
      "Epoch 70/100\n",
      "61/61 [==============================] - 0s 2ms/step - loss: 0.0012\n",
      "Epoch 71/100\n",
      "61/61 [==============================] - 0s 2ms/step - loss: 0.0011\n",
      "Epoch 72/100\n",
      "61/61 [==============================] - 0s 2ms/step - loss: 0.0011\n",
      "Epoch 73/100\n",
      "61/61 [==============================] - 0s 2ms/step - loss: 0.0010\n",
      "Epoch 74/100\n",
      "61/61 [==============================] - 0s 2ms/step - loss: 0.0011\n",
      "Epoch 75/100\n",
      "61/61 [==============================] - 0s 2ms/step - loss: 0.0010\n",
      "Epoch 76/100\n",
      "61/61 [==============================] - 0s 2ms/step - loss: 0.0010\n",
      "Epoch 77/100\n",
      "61/61 [==============================] - 0s 2ms/step - loss: 0.0010\n",
      "Epoch 78/100\n",
      "61/61 [==============================] - 0s 2ms/step - loss: 9.9350e-04\n",
      "Epoch 79/100\n",
      "61/61 [==============================] - 0s 2ms/step - loss: 9.7679e-04\n",
      "Epoch 80/100\n",
      "61/61 [==============================] - 0s 2ms/step - loss: 0.0010\n",
      "Epoch 81/100\n",
      "61/61 [==============================] - 0s 2ms/step - loss: 0.0010\n",
      "Epoch 82/100\n",
      "61/61 [==============================] - 0s 2ms/step - loss: 0.0010\n",
      "Epoch 83/100\n",
      "61/61 [==============================] - 0s 2ms/step - loss: 0.0010\n",
      "Epoch 84/100\n",
      "61/61 [==============================] - 0s 2ms/step - loss: 0.0010\n",
      "Epoch 85/100\n",
      "61/61 [==============================] - 0s 2ms/step - loss: 0.0010\n",
      "Epoch 86/100\n",
      "61/61 [==============================] - 0s 2ms/step - loss: 9.6288e-04\n",
      "Epoch 87/100\n",
      "61/61 [==============================] - 0s 2ms/step - loss: 9.6163e-04\n",
      "Epoch 88/100\n",
      "61/61 [==============================] - 0s 2ms/step - loss: 9.9801e-04\n",
      "Epoch 89/100\n",
      "61/61 [==============================] - 0s 2ms/step - loss: 0.0010\n",
      "Epoch 90/100\n",
      "61/61 [==============================] - 0s 2ms/step - loss: 0.0012\n",
      "Epoch 91/100\n",
      "61/61 [==============================] - 0s 2ms/step - loss: 9.6440e-04\n",
      "Epoch 92/100\n",
      "61/61 [==============================] - 0s 2ms/step - loss: 0.0010\n",
      "Epoch 93/100\n",
      "61/61 [==============================] - 0s 2ms/step - loss: 9.5689e-04\n",
      "Epoch 94/100\n",
      "61/61 [==============================] - 0s 2ms/step - loss: 9.5884e-04\n",
      "Epoch 95/100\n",
      "61/61 [==============================] - 0s 2ms/step - loss: 9.5463e-04\n",
      "Epoch 96/100\n",
      "61/61 [==============================] - 0s 2ms/step - loss: 9.2667e-04\n",
      "Epoch 97/100\n",
      "61/61 [==============================] - 0s 2ms/step - loss: 0.0010\n",
      "Epoch 98/100\n",
      "61/61 [==============================] - 0s 2ms/step - loss: 9.8867e-04\n",
      "Epoch 99/100\n",
      "61/61 [==============================] - 0s 2ms/step - loss: 9.6849e-04\n",
      "Epoch 100/100\n",
      "61/61 [==============================] - 0s 2ms/step - loss: 9.2470e-04\n"
     ]
    },
    {
     "data": {
      "text/plain": [
       "<keras.callbacks.History at 0x2a84b2be730>"
      ]
     },
     "execution_count": 211,
     "metadata": {},
     "output_type": "execute_result"
    }
   ],
   "source": [
    "# model\n",
    "model1 = Sequential()\n",
    "model1.add(LSTM(10, input_shape=(1, timestamp))) # 10 lstm neuron(block)\n",
    "model1.add(Dense(1))\n",
    "model1.compile(loss='mean_squared_error', optimizer='adam')\n",
    "model1.fit(trainX, trainY, epochs=100, batch_size=1)"
   ]
  },
  {
   "cell_type": "markdown",
   "id": "445ae6f9",
   "metadata": {},
   "source": [
    "## Predicting using Model-1 "
   ]
  },
  {
   "cell_type": "code",
   "execution_count": 212,
   "id": "fd899f33",
   "metadata": {},
   "outputs": [
    {
     "name": "stdout",
     "output_type": "stream",
     "text": [
      "Model-1 Train Score: 15.40 RMSE\n",
      "Model-1 Test Score: 42.85 RMSE\n"
     ]
    }
   ],
   "source": [
    "trainPredict = model1.predict(trainX)\n",
    "testPredict = model1.predict(testX)\n",
    "\n",
    "trainPredict = scaler.inverse_transform(trainPredict)\n",
    "trainY = scaler.inverse_transform([trainY])\n",
    "testPredict = scaler.inverse_transform(testPredict)\n",
    "testY = scaler.inverse_transform([testY])\n",
    "\n",
    "trainScore = math.sqrt(mean_squared_error(trainY[0], trainPredict[:,0]))\n",
    "print('Model-1 Train Score: %.2f RMSE' % (trainScore))\n",
    "testScore = math.sqrt(mean_squared_error(testY[0], testPredict[:,0]))\n",
    "print('Model-1 Test Score: %.2f RMSE' % (testScore))"
   ]
  },
  {
   "cell_type": "markdown",
   "id": "0c2c2027",
   "metadata": {},
   "source": [
    "## Building Model-2 "
   ]
  },
  {
   "cell_type": "code",
   "execution_count": 230,
   "id": "de44a5b0",
   "metadata": {
    "scrolled": true
   },
   "outputs": [
    {
     "name": "stdout",
     "output_type": "stream",
     "text": [
      "Epoch 1/50\n",
      "61/61 [==============================] - 1s 2ms/step - loss: 0.0224\n",
      "Epoch 2/50\n",
      "61/61 [==============================] - 0s 2ms/step - loss: 0.0102\n",
      "Epoch 3/50\n",
      "61/61 [==============================] - 0s 2ms/step - loss: 0.0098\n",
      "Epoch 4/50\n",
      "61/61 [==============================] - 0s 2ms/step - loss: 0.0095\n",
      "Epoch 5/50\n",
      "61/61 [==============================] - 0s 2ms/step - loss: 0.0095\n",
      "Epoch 6/50\n",
      "61/61 [==============================] - 0s 2ms/step - loss: 0.0093\n",
      "Epoch 7/50\n",
      "61/61 [==============================] - 0s 2ms/step - loss: 0.0091\n",
      "Epoch 8/50\n",
      "61/61 [==============================] - 0s 2ms/step - loss: 0.0090\n",
      "Epoch 9/50\n",
      "61/61 [==============================] - 0s 2ms/step - loss: 0.0089\n",
      "Epoch 10/50\n",
      "61/61 [==============================] - 0s 2ms/step - loss: 0.0088\n",
      "Epoch 11/50\n",
      "61/61 [==============================] - 0s 2ms/step - loss: 0.0086\n",
      "Epoch 12/50\n",
      "61/61 [==============================] - 0s 2ms/step - loss: 0.0084\n",
      "Epoch 13/50\n",
      "61/61 [==============================] - 0s 2ms/step - loss: 0.0084\n",
      "Epoch 14/50\n",
      "61/61 [==============================] - 0s 1ms/step - loss: 0.0081\n",
      "Epoch 15/50\n",
      "61/61 [==============================] - 0s 2ms/step - loss: 0.0081\n",
      "Epoch 16/50\n",
      "61/61 [==============================] - 0s 1ms/step - loss: 0.0079\n",
      "Epoch 17/50\n",
      "61/61 [==============================] - 0s 2ms/step - loss: 0.0078\n",
      "Epoch 18/50\n",
      "61/61 [==============================] - 0s 1ms/step - loss: 0.0077\n",
      "Epoch 19/50\n",
      "61/61 [==============================] - 0s 1ms/step - loss: 0.0077\n",
      "Epoch 20/50\n",
      "61/61 [==============================] - 0s 1ms/step - loss: 0.0076\n",
      "Epoch 21/50\n",
      "61/61 [==============================] - 0s 1ms/step - loss: 0.0073\n",
      "Epoch 22/50\n",
      "61/61 [==============================] - 0s 2ms/step - loss: 0.0074\n",
      "Epoch 23/50\n",
      "61/61 [==============================] - 0s 1ms/step - loss: 0.0072\n",
      "Epoch 24/50\n",
      "61/61 [==============================] - 0s 2ms/step - loss: 0.0071\n",
      "Epoch 25/50\n",
      "61/61 [==============================] - 0s 2ms/step - loss: 0.0070\n",
      "Epoch 26/50\n",
      "61/61 [==============================] - 0s 2ms/step - loss: 0.0069\n",
      "Epoch 27/50\n",
      "61/61 [==============================] - 0s 2ms/step - loss: 0.0069\n",
      "Epoch 28/50\n",
      "61/61 [==============================] - 0s 2ms/step - loss: 0.0068\n",
      "Epoch 29/50\n",
      "61/61 [==============================] - 0s 2ms/step - loss: 0.0067\n",
      "Epoch 30/50\n",
      "61/61 [==============================] - 0s 2ms/step - loss: 0.0065\n",
      "Epoch 31/50\n",
      "61/61 [==============================] - 0s 2ms/step - loss: 0.0065\n",
      "Epoch 32/50\n",
      "61/61 [==============================] - 0s 1ms/step - loss: 0.0064\n",
      "Epoch 33/50\n",
      "61/61 [==============================] - 0s 2ms/step - loss: 0.0064\n",
      "Epoch 34/50\n",
      "61/61 [==============================] - 0s 2ms/step - loss: 0.0063\n",
      "Epoch 35/50\n",
      "61/61 [==============================] - 0s 2ms/step - loss: 0.0062\n",
      "Epoch 36/50\n",
      "61/61 [==============================] - 0s 1ms/step - loss: 0.0061\n",
      "Epoch 37/50\n",
      "61/61 [==============================] - 0s 2ms/step - loss: 0.0060\n",
      "Epoch 38/50\n",
      "61/61 [==============================] - 0s 2ms/step - loss: 0.0060\n",
      "Epoch 39/50\n",
      "61/61 [==============================] - 0s 2ms/step - loss: 0.0059\n",
      "Epoch 40/50\n",
      "61/61 [==============================] - 0s 2ms/step - loss: 0.0058\n",
      "Epoch 41/50\n",
      "61/61 [==============================] - 0s 2ms/step - loss: 0.0058\n",
      "Epoch 42/50\n",
      "61/61 [==============================] - 0s 2ms/step - loss: 0.0057\n",
      "Epoch 43/50\n",
      "61/61 [==============================] - 0s 1ms/step - loss: 0.0056\n",
      "Epoch 44/50\n",
      "61/61 [==============================] - 0s 2ms/step - loss: 0.0056\n",
      "Epoch 45/50\n",
      "61/61 [==============================] - 0s 2ms/step - loss: 0.0055\n",
      "Epoch 46/50\n",
      "61/61 [==============================] - 0s 2ms/step - loss: 0.0054\n",
      "Epoch 47/50\n",
      "61/61 [==============================] - 0s 2ms/step - loss: 0.0054\n",
      "Epoch 48/50\n",
      "61/61 [==============================] - 0s 2ms/step - loss: 0.0054\n",
      "Epoch 49/50\n",
      "61/61 [==============================] - 0s 2ms/step - loss: 0.0053\n",
      "Epoch 50/50\n",
      "61/61 [==============================] - 0s 2ms/step - loss: 0.0052\n"
     ]
    },
    {
     "data": {
      "text/plain": [
       "<keras.callbacks.History at 0x2a84b301430>"
      ]
     },
     "execution_count": 230,
     "metadata": {},
     "output_type": "execute_result"
    }
   ],
   "source": [
    "# model\n",
    "model2 = Sequential()\n",
    "model2.add(LSTM(10, input_shape=(1, timestamp))) # 10 lstm neuron(block)\n",
    "model2.add(Dense(1))\n",
    "model2.compile(loss='mean_squared_error', optimizer='sgd')\n",
    "model2.fit(trainX, trainY, epochs=50, batch_size=1)"
   ]
  },
  {
   "cell_type": "markdown",
   "id": "246a8186",
   "metadata": {},
   "source": [
    "## Predicting using Model-2 "
   ]
  },
  {
   "cell_type": "code",
   "execution_count": 231,
   "id": "60bd4e54",
   "metadata": {},
   "outputs": [
    {
     "name": "stdout",
     "output_type": "stream",
     "text": [
      "Model-2 Train Score: 0.07 RMSE\n",
      "Model-2 Test Score: 0.31 RMSE\n"
     ]
    }
   ],
   "source": [
    "trainPredict = model2.predict(trainX)\n",
    "testPredict = model2.predict(testX)\n",
    "\n",
    "trainPredict = scaler.inverse_transform(trainPredict)\n",
    "trainY = scaler.inverse_transform([trainY])\n",
    "testPredict = scaler.inverse_transform(testPredict)\n",
    "testY = scaler.inverse_transform([testY])\n",
    "\n",
    "trainScore = math.sqrt(mean_squared_error(trainY[0], trainPredict[:,0]))\n",
    "print('Model-2 Train Score: %.2f RMSE' % (trainScore))\n",
    "testScore = math.sqrt(mean_squared_error(testY[0], testPredict[:,0]))\n",
    "print('Model-2 Test Score: %.2f RMSE' % (testScore))"
   ]
  }
 ],
 "metadata": {
  "kernelspec": {
   "display_name": "tensorflow_env",
   "language": "python",
   "name": "tensorflow_env"
  },
  "language_info": {
   "codemirror_mode": {
    "name": "ipython",
    "version": 3
   },
   "file_extension": ".py",
   "mimetype": "text/x-python",
   "name": "python",
   "nbconvert_exporter": "python",
   "pygments_lexer": "ipython3",
   "version": "3.9.6"
  }
 },
 "nbformat": 4,
 "nbformat_minor": 5
}

{
 "cells": [
  {
   "cell_type": "code",
   "execution_count": null,
   "id": "2460fd43",
   "metadata": {},
   "outputs": [],
   "source": [
    "\"\"\"\n",
    "A. Shows how you can create a session in Tensor Flow\n",
    "B. Define constants and perform computation such as addition and subtraction with those\n",
    "constants using the session.\n",
    "C. Print Hello World using the same \n",
    "\"\"\""
   ]
  },
  {
   "cell_type": "code",
   "execution_count": 1,
   "id": "8d38b9d1",
   "metadata": {},
   "outputs": [
    {
     "name": "stdout",
     "output_type": "stream",
     "text": [
      "WARNING:tensorflow:From C:\\Users\\black\\anaconda3\\envs\\tensorflow_env\\lib\\site-packages\\tensorflow\\python\\compat\\v2_compat.py:111: disable_resource_variables (from tensorflow.python.ops.variable_scope) is deprecated and will be removed in a future version.\n",
      "Instructions for updating:\n",
      "non-resource variables are not supported in the long term\n"
     ]
    }
   ],
   "source": [
    "import tensorflow.compat.v1 as tf\n",
    "tf.disable_v2_behavior()"
   ]
  },
  {
   "cell_type": "code",
   "execution_count": 2,
   "id": "1c1d7645",
   "metadata": {},
   "outputs": [
    {
     "name": "stdout",
     "output_type": "stream",
     "text": [
      "addition =  11.0\n",
      "subtraction =  -1.0\n",
      "b'Hello World'\n"
     ]
    }
   ],
   "source": [
    "# Building a graph using constants\n",
    "x = tf.constant(5.0)\n",
    "y = tf.constant(6.0)\n",
    "\n",
    "# Creating addition tensor\n",
    "add1 = tf.add(x,y)\n",
    "\n",
    "# Creating subtraction tensor\n",
    "sub1 = tf.subtract(x,y)\n",
    "\n",
    "# Launching the graph in a session.\n",
    "with tf.compat.v1.Session() as sess:\n",
    "    # Evaluating tensor 'add1'\n",
    "    print(\"addition = \",sess.run(add1))\n",
    "    \n",
    "    # Evaluating tensor 'sub1'\n",
    "    print(\"subtraction = \",sess.run(sub1))\n",
    "\n",
    "    # Printing Hello World\n",
    "    z = tf.constant(\"Hello World\")\n",
    "    print(sess.run(z))"
   ]
  },
  {
   "cell_type": "code",
   "execution_count": null,
   "id": "cba0a82b",
   "metadata": {},
   "outputs": [],
   "source": [
    "\"\"\"D. Create a simple Linear Equation y = mx+c in tensor flow, where m and c are variables\n",
    "and x is a placeholder\n",
    "a. Feed in a scalar value to x\n",
    "b. Feed in a vector of 5 values to x\n",
    "c. Choose arbitrary values for m and c\n",
    "\"\"\""
   ]
  },
  {
   "cell_type": "code",
   "execution_count": 3,
   "id": "cdbb617a",
   "metadata": {},
   "outputs": [
    {
     "name": "stdout",
     "output_type": "stream",
     "text": [
      "[ 9 11 13 15 17]\n"
     ]
    }
   ],
   "source": [
    "m = tf.compat.v1.Variable(2)\n",
    "c = tf.compat.v1.Variable(5)\n",
    "x = tf.compat.v1.placeholder(tf.int32, shape=(5,), name=\"x\")\n",
    "y = (m*x) + c\n",
    "\n",
    "\n",
    "with tf.compat.v1.Session() as sess:\n",
    "    init = tf.compat.v1.global_variables_initializer()\n",
    "    sess.run(init)\n",
    "    print (sess.run(y, feed_dict={x:[2,3,4,5,6]}))"
   ]
  }
 ],
 "metadata": {
  "kernelspec": {
   "display_name": "tensorflow_env",
   "language": "python",
   "name": "tensorflow_env"
  },
  "language_info": {
   "codemirror_mode": {
    "name": "ipython",
    "version": 3
   },
   "file_extension": ".py",
   "mimetype": "text/x-python",
   "name": "python",
   "nbconvert_exporter": "python",
   "pygments_lexer": "ipython3",
   "version": "3.9.6"
  }
 },
 "nbformat": 4,
 "nbformat_minor": 5
}

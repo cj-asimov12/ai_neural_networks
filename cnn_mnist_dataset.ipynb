{
 "cells": [
  {
   "cell_type": "markdown",
   "id": "93f45090",
   "metadata": {},
   "source": [
    "## CNN using MNIST dataset"
   ]
  },
  {
   "cell_type": "code",
   "execution_count": null,
   "id": "eca82bf0",
   "metadata": {},
   "outputs": [],
   "source": [
    "\"\"\"\n",
    "A. Do some necessary importslike:\n",
    "a. Download the MNIST dataset through Keras\n",
    "b. Import a sequential model\n",
    "c. Import the convolution and pooling layers\n",
    "d. Import dense layers, dropout layer, and the flatten layer\n",
    "e. Import numpy\n",
    "B. Fit the dataset to a model, i.e. train the model for 12 epochs.\n",
    "a. After training the model,evaluate the loss and accuracy of the model on the test\n",
    "data and print it. \n",
    "\"\"\""
   ]
  },
  {
   "cell_type": "code",
   "execution_count": 15,
   "id": "8953d13e",
   "metadata": {},
   "outputs": [],
   "source": [
    "from tensorflow.keras.datasets import mnist\n",
    "from tensorflow.keras import Sequential\n",
    "from tensorflow.keras.layers import Conv2D, MaxPooling2D\n",
    "from tensorflow.keras.layers import Dense, Dropout, Flatten\n",
    "import numpy as np"
   ]
  },
  {
   "cell_type": "markdown",
   "id": "167e7a91",
   "metadata": {},
   "source": [
    "## Splitting data into train and test sets "
   ]
  },
  {
   "cell_type": "code",
   "execution_count": 7,
   "id": "d8cefba4",
   "metadata": {},
   "outputs": [],
   "source": [
    "(X_train, y_train), (X_test, y_test) = mnist.load_data()"
   ]
  },
  {
   "cell_type": "markdown",
   "id": "43495308",
   "metadata": {},
   "source": [
    "## Plotting first image in the train data"
   ]
  },
  {
   "cell_type": "code",
   "execution_count": 9,
   "id": "cfb7536a",
   "metadata": {},
   "outputs": [
    {
     "data": {
      "text/plain": [
       "<matplotlib.image.AxesImage at 0x1a5df696c40>"
      ]
     },
     "execution_count": 9,
     "metadata": {},
     "output_type": "execute_result"
    },
    {
     "data": {
      "image/png": "[encoded data removed]",
      "text/plain": [
       "<Figure size 432x288 with 1 Axes>"
      ]
     },
     "metadata": {
      "needs_background": "light"
     },
     "output_type": "display_data"
    }
   ],
   "source": [
    "import matplotlib.pyplot as plt\n",
    "\n",
    "plt.imshow(X_train[0], cmap=\"Greys_r\")"
   ]
  },
  {
   "cell_type": "markdown",
   "id": "c5b1e1c3",
   "metadata": {},
   "source": [
    "## Checking image shape"
   ]
  },
  {
   "cell_type": "code",
   "execution_count": 10,
   "id": "446878d6",
   "metadata": {},
   "outputs": [
    {
     "data": {
      "text/plain": [
       "(28, 28)"
      ]
     },
     "execution_count": 10,
     "metadata": {},
     "output_type": "execute_result"
    }
   ],
   "source": [
    "X_train[0].shape"
   ]
  },
  {
   "cell_type": "markdown",
   "id": "d1e684a7",
   "metadata": {},
   "source": [
    "## Data pre-processing"
   ]
  },
  {
   "cell_type": "markdown",
   "id": "1da0ccb5",
   "metadata": {},
   "source": [
    "### Reshape data to fit the model "
   ]
  },
  {
   "cell_type": "code",
   "execution_count": 11,
   "id": "a571cf6f",
   "metadata": {},
   "outputs": [],
   "source": [
    "X_train = X_train.reshape(60000,28,28,1)\n",
    "X_test = X_test.reshape(10000,28,28,1)"
   ]
  },
  {
   "cell_type": "markdown",
   "id": "6f889706",
   "metadata": {},
   "source": [
    "### One-hot encode target column "
   ]
  },
  {
   "cell_type": "code",
   "execution_count": 13,
   "id": "038a3aa2",
   "metadata": {},
   "outputs": [
    {
     "data": {
      "text/plain": [
       "array([0., 0., 0., 0., 0., 1., 0., 0., 0., 0.], dtype=float32)"
      ]
     },
     "execution_count": 13,
     "metadata": {},
     "output_type": "execute_result"
    }
   ],
   "source": [
    "from tensorflow.keras.utils import to_categorical\n",
    "\n",
    "y_train = to_categorical(y_train)\n",
    "y_test = to_categorical(y_test)\n",
    "y_train[0]"
   ]
  },
  {
   "cell_type": "markdown",
   "id": "b0f237aa",
   "metadata": {},
   "source": [
    "## Building the model"
   ]
  },
  {
   "cell_type": "markdown",
   "id": "637d668d",
   "metadata": {},
   "source": [
    "### Creating the model and adding layers "
   ]
  },
  {
   "cell_type": "code",
   "execution_count": 31,
   "id": "3d15a28e",
   "metadata": {},
   "outputs": [],
   "source": [
    "model = Sequential()\n",
    "model.add(Conv2D(64, kernel_size=3, activation=\"relu\", input_shape=(28,28,1)))\n",
    "model.add(Conv2D(64, kernel_size=3, activation=\"relu\"))\n",
    "model.add(MaxPooling2D(pool_size=2, strides=2))\n",
    "model.add(Flatten())\n",
    "model.add(Dense(100, activation=\"relu\"))\n",
    "model.add(Dense(10, activation=\"softmax\"))"
   ]
  },
  {
   "cell_type": "markdown",
   "id": "9f58246f",
   "metadata": {},
   "source": [
    "### Compiling the model using accuracy to measure model performance"
   ]
  },
  {
   "cell_type": "code",
   "execution_count": 32,
   "id": "3bc0e10d",
   "metadata": {},
   "outputs": [],
   "source": [
    "model.compile(optimizer=\"adam\", loss=\"categorical_crossentropy\", metrics=[\"accuracy\"])"
   ]
  },
  {
   "cell_type": "markdown",
   "id": "2c90efc3",
   "metadata": {},
   "source": [
    "### Training the model"
   ]
  },
  {
   "cell_type": "code",
   "execution_count": 33,
   "id": "76155d5e",
   "metadata": {},
   "outputs": [
    {
     "name": "stdout",
     "output_type": "stream",
     "text": [
      "Epoch 1/12\n",
      "1875/1875 [==============================] - 94s 50ms/step - loss: 0.2651 - accuracy: 0.9561 - val_loss: 0.0569 - val_accuracy: 0.9812\n",
      "Epoch 2/12\n",
      "1875/1875 [==============================] - 95s 50ms/step - loss: 0.0565 - accuracy: 0.9822 - val_loss: 0.0541 - val_accuracy: 0.9836\n",
      "Epoch 3/12\n",
      "1875/1875 [==============================] - 92s 49ms/step - loss: 0.0415 - accuracy: 0.9871 - val_loss: 0.0820 - val_accuracy: 0.9768\n",
      "Epoch 4/12\n",
      "1875/1875 [==============================] - 90s 48ms/step - loss: 0.0332 - accuracy: 0.9894 - val_loss: 0.0809 - val_accuracy: 0.9822\n",
      "Epoch 5/12\n",
      "1875/1875 [==============================] - 90s 48ms/step - loss: 0.0275 - accuracy: 0.9919 - val_loss: 0.0649 - val_accuracy: 0.9837\n",
      "Epoch 6/12\n",
      "1875/1875 [==============================] - 93s 50ms/step - loss: 0.0215 - accuracy: 0.9934 - val_loss: 0.0723 - val_accuracy: 0.9838\n",
      "Epoch 7/12\n",
      "1875/1875 [==============================] - 92s 49ms/step - loss: 0.0192 - accuracy: 0.9946 - val_loss: 0.0653 - val_accuracy: 0.9859\n",
      "Epoch 8/12\n",
      "1875/1875 [==============================] - 91s 48ms/step - loss: 0.0190 - accuracy: 0.9949 - val_loss: 0.0863 - val_accuracy: 0.9826\n",
      "Epoch 9/12\n",
      "1875/1875 [==============================] - 90s 48ms/step - loss: 0.0145 - accuracy: 0.9958 - val_loss: 0.1077 - val_accuracy: 0.9807\n",
      "Epoch 10/12\n",
      "1875/1875 [==============================] - 93s 49ms/step - loss: 0.0156 - accuracy: 0.9960 - val_loss: 0.0991 - val_accuracy: 0.9829\n",
      "Epoch 11/12\n",
      "1875/1875 [==============================] - 95s 50ms/step - loss: 0.0105 - accuracy: 0.9969 - val_loss: 0.1080 - val_accuracy: 0.9838\n",
      "Epoch 12/12\n",
      "1875/1875 [==============================] - 92s 49ms/step - loss: 0.0151 - accuracy: 0.9962 - val_loss: 0.1384 - val_accuracy: 0.9810\n"
     ]
    },
    {
     "data": {
      "text/plain": [
       "<keras.callbacks.History at 0x1a5e02769a0>"
      ]
     },
     "execution_count": 33,
     "metadata": {},
     "output_type": "execute_result"
    }
   ],
   "source": [
    "model.fit(X_train, y_train, validation_data=(X_test, y_test), epochs=12)"
   ]
  },
  {
   "cell_type": "markdown",
   "id": "7d0dec53",
   "metadata": {},
   "source": [
    "## Predicting "
   ]
  },
  {
   "cell_type": "markdown",
   "id": "3b550d63",
   "metadata": {},
   "source": [
    "### Predicting for first image in the test data "
   ]
  },
  {
   "cell_type": "code",
   "execution_count": 34,
   "id": "f8fe433e",
   "metadata": {},
   "outputs": [
    {
     "data": {
      "text/plain": [
       "7"
      ]
     },
     "execution_count": 34,
     "metadata": {},
     "output_type": "execute_result"
    }
   ],
   "source": [
    "out1 = model.predict(X_test[0:1])\n",
    "np.argmax(out1)"
   ]
  },
  {
   "cell_type": "code",
   "execution_count": 35,
   "id": "d0c0bc06",
   "metadata": {},
   "outputs": [
    {
     "data": {
      "text/plain": [
       "<matplotlib.image.AxesImage at 0x1a5e058fcd0>"
      ]
     },
     "execution_count": 35,
     "metadata": {},
     "output_type": "execute_result"
    },
    {
     "data": {
      "image/png": "[encoded data removed]",
      "text/plain": [
       "<Figure size 432x288 with 1 Axes>"
      ]
     },
     "metadata": {
      "needs_background": "light"
     },
     "output_type": "display_data"
    }
   ],
   "source": [
    "plt.imshow(X_test[0], cmap=\"Greys_r\")"
   ]
  },
  {
   "cell_type": "markdown",
   "id": "3597c1fe",
   "metadata": {},
   "source": [
    "### Predicting for first four images in the test data"
   ]
  },
  {
   "cell_type": "code",
   "execution_count": 36,
   "id": "d8b5c787",
   "metadata": {},
   "outputs": [
    {
     "data": {
      "text/plain": [
       "array([[6.4690518e-33, 1.3551577e-28, 8.0753404e-20, 2.5174828e-23,\n",
       "        1.8612979e-28, 7.4354937e-35, 2.6083312e-28, 1.0000000e+00,\n",
       "        2.9153148e-28, 3.0446644e-25],\n",
       "       [6.7734130e-24, 1.6300241e-21, 1.0000000e+00, 1.1367553e-22,\n",
       "        3.0107896e-32, 0.0000000e+00, 1.6233257e-17, 2.2033626e-32,\n",
       "        6.7997537e-28, 1.2759637e-38],\n",
       "       [6.7573615e-16, 1.0000000e+00, 3.7722383e-20, 1.4418495e-19,\n",
       "        1.6666637e-12, 3.2378300e-16, 6.6602335e-11, 2.0530002e-13,\n",
       "        2.7546498e-15, 4.3577508e-19],\n",
       "       [1.0000000e+00, 1.9981385e-28, 2.3108147e-16, 3.9068601e-26,\n",
       "        2.3424987e-32, 1.1976737e-24, 2.1445114e-17, 1.0019242e-23,\n",
       "        7.7157469e-21, 3.1848819e-18]], dtype=float32)"
      ]
     },
     "execution_count": 36,
     "metadata": {},
     "output_type": "execute_result"
    }
   ],
   "source": [
    "model.predict(X_test[:4])"
   ]
  },
  {
   "cell_type": "markdown",
   "id": "63a9738d",
   "metadata": {},
   "source": [
    "### Actual results for first 4 images in test data "
   ]
  },
  {
   "cell_type": "code",
   "execution_count": 37,
   "id": "ab0872f2",
   "metadata": {},
   "outputs": [
    {
     "data": {
      "text/plain": [
       "array([[0., 0., 0., 0., 0., 0., 0., 1., 0., 0.],\n",
       "       [0., 0., 1., 0., 0., 0., 0., 0., 0., 0.],\n",
       "       [0., 1., 0., 0., 0., 0., 0., 0., 0., 0.],\n",
       "       [1., 0., 0., 0., 0., 0., 0., 0., 0., 0.]], dtype=float32)"
      ]
     },
     "execution_count": 37,
     "metadata": {},
     "output_type": "execute_result"
    }
   ],
   "source": [
    "y_test[:4]"
   ]
  }
 ],
 "metadata": {
  "kernelspec": {
   "display_name": "tensorflow_env",
   "language": "python",
   "name": "tensorflow_env"
  },
  "language_info": {
   "codemirror_mode": {
    "name": "ipython",
    "version": 3
   },
   "file_extension": ".py",
   "mimetype": "text/x-python",
   "name": "python",
   "nbconvert_exporter": "python",
   "pygments_lexer": "ipython3",
   "version": "3.9.6"
  }
 },
 "nbformat": 4,
 "nbformat_minor": 5
}

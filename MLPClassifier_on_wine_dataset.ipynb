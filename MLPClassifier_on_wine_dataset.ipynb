{
 "cells": [
  {
   "cell_type": "markdown",
   "id": "a91749ea",
   "metadata": {},
   "source": [
    "# MLP Assignment"
   ]
  },
  {
   "cell_type": "code",
   "execution_count": null,
   "id": "af522d85",
   "metadata": {},
   "outputs": [],
   "source": [
    "\"\"\"\n",
    "A. Import the dataset, and add header columns with the names function\n",
    "a. Check out the data\n",
    "B. Split your data into training and testing sets using SciKitLearn'strain_test_split function\n",
    "from model_selection\n",
    "a. It is highly recommended to scale your data. You must apply the same scaling to\n",
    "the test set for meaningful results. Use the built-in Standard Scaler for\n",
    "standardization.\n",
    "b. Train your model using ScikitLearn’s estimator objects.\n",
    "\"\"\""
   ]
  },
  {
   "cell_type": "markdown",
   "id": "bc6b02c0",
   "metadata": {},
   "source": [
    "## Importing and adding header to dataset "
   ]
  },
  {
   "cell_type": "code",
   "execution_count": 1,
   "id": "fb68eca3",
   "metadata": {},
   "outputs": [],
   "source": [
    "import pandas as pd"
   ]
  },
  {
   "cell_type": "code",
   "execution_count": 10,
   "id": "ab53618b",
   "metadata": {},
   "outputs": [],
   "source": [
    "wine = pd.read_csv(\"C:\\\\Users\\\\black\\\\Desktop\\\\ai_py\\\\datasets\\\\wine.csv\",header=None)"
   ]
  },
  {
   "cell_type": "code",
   "execution_count": 11,
   "id": "11422fdd",
   "metadata": {},
   "outputs": [
    {
     "data": {
      "text/html": [
       "<div>\n",
       "<style scoped>\n",
       "    .dataframe tbody tr th:only-of-type {\n",
       "        vertical-align: middle;\n",
       "    }\n",
       "\n",
       "    .dataframe tbody tr th {\n",
       "        vertical-align: top;\n",
       "    }\n",
       "\n",
       "    .dataframe thead th {\n",
       "        text-align: right;\n",
       "    }\n",
       "</style>\n",
       "<table border=\"1\" class=\"dataframe\">\n",
       "  <thead>\n",
       "    <tr style=\"text-align: right;\">\n",
       "      <th></th>\n",
       "      <th>0</th>\n",
       "      <th>1</th>\n",
       "      <th>2</th>\n",
       "      <th>3</th>\n",
       "      <th>4</th>\n",
       "      <th>5</th>\n",
       "      <th>6</th>\n",
       "      <th>7</th>\n",
       "      <th>8</th>\n",
       "      <th>9</th>\n",
       "      <th>10</th>\n",
       "      <th>11</th>\n",
       "      <th>12</th>\n",
       "      <th>13</th>\n",
       "    </tr>\n",
       "  </thead>\n",
       "  <tbody>\n",
       "    <tr>\n",
       "      <th>0</th>\n",
       "      <td>1</td>\n",
       "      <td>14.23</td>\n",
       "      <td>1.71</td>\n",
       "      <td>2.43</td>\n",
       "      <td>15.6</td>\n",
       "      <td>127</td>\n",
       "      <td>2.80</td>\n",
       "      <td>3.06</td>\n",
       "      <td>0.28</td>\n",
       "      <td>2.29</td>\n",
       "      <td>5.64</td>\n",
       "      <td>1.04</td>\n",
       "      <td>3.92</td>\n",
       "      <td>1065</td>\n",
       "    </tr>\n",
       "    <tr>\n",
       "      <th>1</th>\n",
       "      <td>1</td>\n",
       "      <td>13.20</td>\n",
       "      <td>1.78</td>\n",
       "      <td>2.14</td>\n",
       "      <td>11.2</td>\n",
       "      <td>100</td>\n",
       "      <td>2.65</td>\n",
       "      <td>2.76</td>\n",
       "      <td>0.26</td>\n",
       "      <td>1.28</td>\n",
       "      <td>4.38</td>\n",
       "      <td>1.05</td>\n",
       "      <td>3.40</td>\n",
       "      <td>1050</td>\n",
       "    </tr>\n",
       "    <tr>\n",
       "      <th>2</th>\n",
       "      <td>1</td>\n",
       "      <td>13.16</td>\n",
       "      <td>2.36</td>\n",
       "      <td>2.67</td>\n",
       "      <td>18.6</td>\n",
       "      <td>101</td>\n",
       "      <td>2.80</td>\n",
       "      <td>3.24</td>\n",
       "      <td>0.30</td>\n",
       "      <td>2.81</td>\n",
       "      <td>5.68</td>\n",
       "      <td>1.03</td>\n",
       "      <td>3.17</td>\n",
       "      <td>1185</td>\n",
       "    </tr>\n",
       "    <tr>\n",
       "      <th>3</th>\n",
       "      <td>1</td>\n",
       "      <td>14.37</td>\n",
       "      <td>1.95</td>\n",
       "      <td>2.50</td>\n",
       "      <td>16.8</td>\n",
       "      <td>113</td>\n",
       "      <td>3.85</td>\n",
       "      <td>3.49</td>\n",
       "      <td>0.24</td>\n",
       "      <td>2.18</td>\n",
       "      <td>7.80</td>\n",
       "      <td>0.86</td>\n",
       "      <td>3.45</td>\n",
       "      <td>1480</td>\n",
       "    </tr>\n",
       "    <tr>\n",
       "      <th>4</th>\n",
       "      <td>1</td>\n",
       "      <td>13.24</td>\n",
       "      <td>2.59</td>\n",
       "      <td>2.87</td>\n",
       "      <td>21.0</td>\n",
       "      <td>118</td>\n",
       "      <td>2.80</td>\n",
       "      <td>2.69</td>\n",
       "      <td>0.39</td>\n",
       "      <td>1.82</td>\n",
       "      <td>4.32</td>\n",
       "      <td>1.04</td>\n",
       "      <td>2.93</td>\n",
       "      <td>735</td>\n",
       "    </tr>\n",
       "  </tbody>\n",
       "</table>\n",
       "</div>"
      ],
      "text/plain": [
       "   0      1     2     3     4    5     6     7     8     9     10    11    12  \\\n",
       "0   1  14.23  1.71  2.43  15.6  127  2.80  3.06  0.28  2.29  5.64  1.04  3.92   \n",
       "1   1  13.20  1.78  2.14  11.2  100  2.65  2.76  0.26  1.28  4.38  1.05  3.40   \n",
       "2   1  13.16  2.36  2.67  18.6  101  2.80  3.24  0.30  2.81  5.68  1.03  3.17   \n",
       "3   1  14.37  1.95  2.50  16.8  113  3.85  3.49  0.24  2.18  7.80  0.86  3.45   \n",
       "4   1  13.24  2.59  2.87  21.0  118  2.80  2.69  0.39  1.82  4.32  1.04  2.93   \n",
       "\n",
       "     13  \n",
       "0  1065  \n",
       "1  1050  \n",
       "2  1185  \n",
       "3  1480  \n",
       "4   735  "
      ]
     },
     "execution_count": 11,
     "metadata": {},
     "output_type": "execute_result"
    }
   ],
   "source": [
    "wine.head()"
   ]
  },
  {
   "cell_type": "code",
   "execution_count": 13,
   "id": "175a2784",
   "metadata": {},
   "outputs": [],
   "source": [
    "wine.columns = [\"Wine\", \"Alcohol\",\"Malic.acid\",\"Ash\",\"Acl\",\"Mg\",\"Phenols\",\"Flavanoids\",\"Nonflavanoid.phenols\",\"Proanth\",\"Color.int\",\"Hue\",\"OD\",\"Proline\"]"
   ]
  },
  {
   "cell_type": "code",
   "execution_count": 15,
   "id": "1d5668bb",
   "metadata": {},
   "outputs": [
    {
     "data": {
      "text/html": [
       "<div>\n",
       "<style scoped>\n",
       "    .dataframe tbody tr th:only-of-type {\n",
       "        vertical-align: middle;\n",
       "    }\n",
       "\n",
       "    .dataframe tbody tr th {\n",
       "        vertical-align: top;\n",
       "    }\n",
       "\n",
       "    .dataframe thead th {\n",
       "        text-align: right;\n",
       "    }\n",
       "</style>\n",
       "<table border=\"1\" class=\"dataframe\">\n",
       "  <thead>\n",
       "    <tr style=\"text-align: right;\">\n",
       "      <th></th>\n",
       "      <th>Wine</th>\n",
       "      <th>Alcohol</th>\n",
       "      <th>Malic.acid</th>\n",
       "      <th>Ash</th>\n",
       "      <th>Acl</th>\n",
       "      <th>Mg</th>\n",
       "      <th>Phenols</th>\n",
       "      <th>Flavanoids</th>\n",
       "      <th>Nonflavanoid.phenols</th>\n",
       "      <th>Proanth</th>\n",
       "      <th>Color.int</th>\n",
       "      <th>Hue</th>\n",
       "      <th>OD</th>\n",
       "      <th>Proline</th>\n",
       "    </tr>\n",
       "  </thead>\n",
       "  <tbody>\n",
       "    <tr>\n",
       "      <th>0</th>\n",
       "      <td>1</td>\n",
       "      <td>14.23</td>\n",
       "      <td>1.71</td>\n",
       "      <td>2.43</td>\n",
       "      <td>15.6</td>\n",
       "      <td>127</td>\n",
       "      <td>2.80</td>\n",
       "      <td>3.06</td>\n",
       "      <td>0.28</td>\n",
       "      <td>2.29</td>\n",
       "      <td>5.64</td>\n",
       "      <td>1.04</td>\n",
       "      <td>3.92</td>\n",
       "      <td>1065</td>\n",
       "    </tr>\n",
       "    <tr>\n",
       "      <th>1</th>\n",
       "      <td>1</td>\n",
       "      <td>13.20</td>\n",
       "      <td>1.78</td>\n",
       "      <td>2.14</td>\n",
       "      <td>11.2</td>\n",
       "      <td>100</td>\n",
       "      <td>2.65</td>\n",
       "      <td>2.76</td>\n",
       "      <td>0.26</td>\n",
       "      <td>1.28</td>\n",
       "      <td>4.38</td>\n",
       "      <td>1.05</td>\n",
       "      <td>3.40</td>\n",
       "      <td>1050</td>\n",
       "    </tr>\n",
       "    <tr>\n",
       "      <th>2</th>\n",
       "      <td>1</td>\n",
       "      <td>13.16</td>\n",
       "      <td>2.36</td>\n",
       "      <td>2.67</td>\n",
       "      <td>18.6</td>\n",
       "      <td>101</td>\n",
       "      <td>2.80</td>\n",
       "      <td>3.24</td>\n",
       "      <td>0.30</td>\n",
       "      <td>2.81</td>\n",
       "      <td>5.68</td>\n",
       "      <td>1.03</td>\n",
       "      <td>3.17</td>\n",
       "      <td>1185</td>\n",
       "    </tr>\n",
       "    <tr>\n",
       "      <th>3</th>\n",
       "      <td>1</td>\n",
       "      <td>14.37</td>\n",
       "      <td>1.95</td>\n",
       "      <td>2.50</td>\n",
       "      <td>16.8</td>\n",
       "      <td>113</td>\n",
       "      <td>3.85</td>\n",
       "      <td>3.49</td>\n",
       "      <td>0.24</td>\n",
       "      <td>2.18</td>\n",
       "      <td>7.80</td>\n",
       "      <td>0.86</td>\n",
       "      <td>3.45</td>\n",
       "      <td>1480</td>\n",
       "    </tr>\n",
       "    <tr>\n",
       "      <th>4</th>\n",
       "      <td>1</td>\n",
       "      <td>13.24</td>\n",
       "      <td>2.59</td>\n",
       "      <td>2.87</td>\n",
       "      <td>21.0</td>\n",
       "      <td>118</td>\n",
       "      <td>2.80</td>\n",
       "      <td>2.69</td>\n",
       "      <td>0.39</td>\n",
       "      <td>1.82</td>\n",
       "      <td>4.32</td>\n",
       "      <td>1.04</td>\n",
       "      <td>2.93</td>\n",
       "      <td>735</td>\n",
       "    </tr>\n",
       "    <tr>\n",
       "      <th>...</th>\n",
       "      <td>...</td>\n",
       "      <td>...</td>\n",
       "      <td>...</td>\n",
       "      <td>...</td>\n",
       "      <td>...</td>\n",
       "      <td>...</td>\n",
       "      <td>...</td>\n",
       "      <td>...</td>\n",
       "      <td>...</td>\n",
       "      <td>...</td>\n",
       "      <td>...</td>\n",
       "      <td>...</td>\n",
       "      <td>...</td>\n",
       "      <td>...</td>\n",
       "    </tr>\n",
       "    <tr>\n",
       "      <th>173</th>\n",
       "      <td>3</td>\n",
       "      <td>13.71</td>\n",
       "      <td>5.65</td>\n",
       "      <td>2.45</td>\n",
       "      <td>20.5</td>\n",
       "      <td>95</td>\n",
       "      <td>1.68</td>\n",
       "      <td>0.61</td>\n",
       "      <td>0.52</td>\n",
       "      <td>1.06</td>\n",
       "      <td>7.70</td>\n",
       "      <td>0.64</td>\n",
       "      <td>1.74</td>\n",
       "      <td>740</td>\n",
       "    </tr>\n",
       "    <tr>\n",
       "      <th>174</th>\n",
       "      <td>3</td>\n",
       "      <td>13.40</td>\n",
       "      <td>3.91</td>\n",
       "      <td>2.48</td>\n",
       "      <td>23.0</td>\n",
       "      <td>102</td>\n",
       "      <td>1.80</td>\n",
       "      <td>0.75</td>\n",
       "      <td>0.43</td>\n",
       "      <td>1.41</td>\n",
       "      <td>7.30</td>\n",
       "      <td>0.70</td>\n",
       "      <td>1.56</td>\n",
       "      <td>750</td>\n",
       "    </tr>\n",
       "    <tr>\n",
       "      <th>175</th>\n",
       "      <td>3</td>\n",
       "      <td>13.27</td>\n",
       "      <td>4.28</td>\n",
       "      <td>2.26</td>\n",
       "      <td>20.0</td>\n",
       "      <td>120</td>\n",
       "      <td>1.59</td>\n",
       "      <td>0.69</td>\n",
       "      <td>0.43</td>\n",
       "      <td>1.35</td>\n",
       "      <td>10.20</td>\n",
       "      <td>0.59</td>\n",
       "      <td>1.56</td>\n",
       "      <td>835</td>\n",
       "    </tr>\n",
       "    <tr>\n",
       "      <th>176</th>\n",
       "      <td>3</td>\n",
       "      <td>13.17</td>\n",
       "      <td>2.59</td>\n",
       "      <td>2.37</td>\n",
       "      <td>20.0</td>\n",
       "      <td>120</td>\n",
       "      <td>1.65</td>\n",
       "      <td>0.68</td>\n",
       "      <td>0.53</td>\n",
       "      <td>1.46</td>\n",
       "      <td>9.30</td>\n",
       "      <td>0.60</td>\n",
       "      <td>1.62</td>\n",
       "      <td>840</td>\n",
       "    </tr>\n",
       "    <tr>\n",
       "      <th>177</th>\n",
       "      <td>3</td>\n",
       "      <td>14.13</td>\n",
       "      <td>4.10</td>\n",
       "      <td>2.74</td>\n",
       "      <td>24.5</td>\n",
       "      <td>96</td>\n",
       "      <td>2.05</td>\n",
       "      <td>0.76</td>\n",
       "      <td>0.56</td>\n",
       "      <td>1.35</td>\n",
       "      <td>9.20</td>\n",
       "      <td>0.61</td>\n",
       "      <td>1.60</td>\n",
       "      <td>560</td>\n",
       "    </tr>\n",
       "  </tbody>\n",
       "</table>\n",
       "<p>178 rows × 14 columns</p>\n",
       "</div>"
      ],
      "text/plain": [
       "     Wine  Alcohol  Malic.acid   Ash   Acl   Mg  Phenols  Flavanoids  \\\n",
       "0       1    14.23        1.71  2.43  15.6  127     2.80        3.06   \n",
       "1       1    13.20        1.78  2.14  11.2  100     2.65        2.76   \n",
       "2       1    13.16        2.36  2.67  18.6  101     2.80        3.24   \n",
       "3       1    14.37        1.95  2.50  16.8  113     3.85        3.49   \n",
       "4       1    13.24        2.59  2.87  21.0  118     2.80        2.69   \n",
       "..    ...      ...         ...   ...   ...  ...      ...         ...   \n",
       "173     3    13.71        5.65  2.45  20.5   95     1.68        0.61   \n",
       "174     3    13.40        3.91  2.48  23.0  102     1.80        0.75   \n",
       "175     3    13.27        4.28  2.26  20.0  120     1.59        0.69   \n",
       "176     3    13.17        2.59  2.37  20.0  120     1.65        0.68   \n",
       "177     3    14.13        4.10  2.74  24.5   96     2.05        0.76   \n",
       "\n",
       "     Nonflavanoid.phenols  Proanth  Color.int   Hue    OD  Proline  \n",
       "0                    0.28     2.29       5.64  1.04  3.92     1065  \n",
       "1                    0.26     1.28       4.38  1.05  3.40     1050  \n",
       "2                    0.30     2.81       5.68  1.03  3.17     1185  \n",
       "3                    0.24     2.18       7.80  0.86  3.45     1480  \n",
       "4                    0.39     1.82       4.32  1.04  2.93      735  \n",
       "..                    ...      ...        ...   ...   ...      ...  \n",
       "173                  0.52     1.06       7.70  0.64  1.74      740  \n",
       "174                  0.43     1.41       7.30  0.70  1.56      750  \n",
       "175                  0.43     1.35      10.20  0.59  1.56      835  \n",
       "176                  0.53     1.46       9.30  0.60  1.62      840  \n",
       "177                  0.56     1.35       9.20  0.61  1.60      560  \n",
       "\n",
       "[178 rows x 14 columns]"
      ]
     },
     "execution_count": 15,
     "metadata": {},
     "output_type": "execute_result"
    }
   ],
   "source": [
    "\n",
    "wine"
   ]
  },
  {
   "cell_type": "markdown",
   "id": "1c13b642",
   "metadata": {},
   "source": [
    "## Selecting Dependent and Independent Variables "
   ]
  },
  {
   "cell_type": "code",
   "execution_count": 64,
   "id": "654ae83c",
   "metadata": {},
   "outputs": [
    {
     "data": {
      "text/plain": [
       "(178, 13)"
      ]
     },
     "execution_count": 64,
     "metadata": {},
     "output_type": "execute_result"
    }
   ],
   "source": [
    "X = wine.iloc[:,1:14]\n",
    "X.shape"
   ]
  },
  {
   "cell_type": "code",
   "execution_count": 65,
   "id": "de8c0551",
   "metadata": {},
   "outputs": [
    {
     "data": {
      "text/plain": [
       "(178, 1)"
      ]
     },
     "execution_count": 65,
     "metadata": {},
     "output_type": "execute_result"
    }
   ],
   "source": [
    "y = wine.iloc[:,0:1]\n",
    "y.shape"
   ]
  },
  {
   "cell_type": "markdown",
   "id": "5f094520",
   "metadata": {},
   "source": [
    "## Splitting the data into train and test sets "
   ]
  },
  {
   "cell_type": "code",
   "execution_count": 66,
   "id": "d86bdad9",
   "metadata": {},
   "outputs": [],
   "source": [
    "from sklearn.model_selection import train_test_split"
   ]
  },
  {
   "cell_type": "code",
   "execution_count": 67,
   "id": "e1ae9df0",
   "metadata": {},
   "outputs": [],
   "source": [
    "X_train, X_test, y_train, y_test = train_test_split(X, y, train_size=.7, random_state=40)"
   ]
  },
  {
   "cell_type": "markdown",
   "id": "bf4e2129",
   "metadata": {},
   "source": [
    "## Scaling the data using StandardScaler() "
   ]
  },
  {
   "cell_type": "code",
   "execution_count": 68,
   "id": "0da23e9e",
   "metadata": {},
   "outputs": [],
   "source": [
    "from sklearn.preprocessing import StandardScaler\n",
    "scaler = StandardScaler()"
   ]
  },
  {
   "cell_type": "code",
   "execution_count": 69,
   "id": "b4d3433f",
   "metadata": {},
   "outputs": [],
   "source": [
    "X_train = scaler.fit_transform(X_train)\n",
    "X_test = scaler.fit_transform(X_test)"
   ]
  },
  {
   "cell_type": "markdown",
   "id": "53172699",
   "metadata": {},
   "source": [
    "## Creating MLPClassifier Model "
   ]
  },
  {
   "cell_type": "code",
   "execution_count": 113,
   "id": "13975976",
   "metadata": {},
   "outputs": [],
   "source": [
    "from sklearn.neural_network import MLPClassifier"
   ]
  },
  {
   "cell_type": "code",
   "execution_count": 141,
   "id": "1e258b94",
   "metadata": {},
   "outputs": [],
   "source": [
    "mlp = MLPClassifier(solver='lbfgs',hidden_layer_sizes=(10,), verbose=True, max_iter=100, learning_rate_init=0.1, random_state=0)"
   ]
  },
  {
   "cell_type": "markdown",
   "id": "98d4a4dd",
   "metadata": {},
   "source": [
    "## Fitting MLP model "
   ]
  },
  {
   "cell_type": "code",
   "execution_count": 142,
   "id": "3a2e81fa",
   "metadata": {
    "scrolled": true
   },
   "outputs": [
    {
     "data": {
      "text/plain": [
       "MLPClassifier(hidden_layer_sizes=(10,), learning_rate_init=0.1, max_iter=100,\n",
       "              random_state=0, solver='lbfgs', verbose=True)"
      ]
     },
     "execution_count": 142,
     "metadata": {},
     "output_type": "execute_result"
    }
   ],
   "source": [
    "mlp.fit(X_train, y_train.values.ravel())"
   ]
  },
  {
   "cell_type": "markdown",
   "id": "47bbde5c",
   "metadata": {},
   "source": [
    "## Predicting on test data "
   ]
  },
  {
   "cell_type": "code",
   "execution_count": 145,
   "id": "e29b29fb",
   "metadata": {},
   "outputs": [],
   "source": [
    "predictions = mlp.predict(X_test)"
   ]
  },
  {
   "cell_type": "markdown",
   "id": "48aaa486",
   "metadata": {},
   "source": [
    "## Building Confusion Matrix "
   ]
  },
  {
   "cell_type": "code",
   "execution_count": 146,
   "id": "8263d4b9",
   "metadata": {},
   "outputs": [
    {
     "name": "stdout",
     "output_type": "stream",
     "text": [
      "[[15  0  0]\n",
      " [ 0 20  0]\n",
      " [ 0  1 18]]\n"
     ]
    }
   ],
   "source": [
    "from sklearn.metrics import classification_report,confusion_matrix\n",
    "print(confusion_matrix(y_test,predictions))"
   ]
  },
  {
   "cell_type": "markdown",
   "id": "0d0afc94",
   "metadata": {},
   "source": [
    "## Checking accuracy, precision, recall, f1-score "
   ]
  },
  {
   "cell_type": "code",
   "execution_count": 154,
   "id": "a9768904",
   "metadata": {
    "scrolled": true
   },
   "outputs": [
    {
     "name": "stdout",
     "output_type": "stream",
     "text": [
      "              precision    recall  f1-score   support\n",
      "\n",
      "           1       1.00      1.00      1.00        15\n",
      "           2       0.95      1.00      0.98        20\n",
      "           3       1.00      0.95      0.97        19\n",
      "\n",
      "    accuracy                           0.98        54\n",
      "   macro avg       0.98      0.98      0.98        54\n",
      "weighted avg       0.98      0.98      0.98        54\n",
      "\n"
     ]
    }
   ],
   "source": [
    "print(classification_report(y_test,predictions))"
   ]
  },
  {
   "cell_type": "markdown",
   "id": "c9f4fd22",
   "metadata": {},
   "source": [
    "## Extracting list of weight matrices "
   ]
  },
  {
   "cell_type": "code",
   "execution_count": 151,
   "id": "1377d44a",
   "metadata": {
    "scrolled": true
   },
   "outputs": [
    {
     "data": {
      "text/plain": [
       "[array([[ 6.50164115e-01,  2.11915878e-01, -5.47646991e-01,\n",
       "          7.98305375e-02, -6.16114045e-01,  1.35502472e-01,\n",
       "          1.65712939e-01,  3.45986430e-01,  9.26665802e-01,\n",
       "         -8.75454660e-01],\n",
       "        [ 4.23435291e-01, -1.19222960e-02, -1.03866774e-01,\n",
       "          2.82020896e-01, -6.41850802e-01, -6.16530650e-01,\n",
       "         -3.93400592e-01,  3.12869847e-01,  1.93984952e-01,\n",
       "         -6.22281688e-02],\n",
       "        [ 8.40112798e-01,  2.62936018e-01, -2.36102025e-01,\n",
       "          6.39206273e-01, -7.32639561e-01,  1.46887548e-01,\n",
       "         -1.26505839e-01,  4.26669290e-01,  1.74550270e-01,\n",
       "         -1.00519409e+00],\n",
       "        [-1.07081877e+00,  2.80573395e-01,  5.61947825e-01,\n",
       "          1.21286765e-01, -1.92836200e-01,  7.62455531e-02,\n",
       "          2.15644055e-01,  3.94824640e-01, -6.02431137e-01,\n",
       "          1.04512516e+00],\n",
       "        [-7.41593555e-02, -6.02352044e-02,  1.46209520e-01,\n",
       "          2.36788896e-01, -1.58371711e-01,  2.32573918e-01,\n",
       "         -9.74650309e-02, -2.54403706e-01,  1.28372757e-02,\n",
       "         -5.73664346e-01],\n",
       "        [ 4.15054169e-01, -4.81236052e-02,  5.78886095e-01,\n",
       "         -3.88415114e-01, -9.69191048e-02, -2.29346365e-01,\n",
       "          2.17621827e-01, -6.70807810e-01,  2.30432652e-01,\n",
       "         -9.32329162e-02],\n",
       "        [ 2.66816751e-01, -4.30627983e-01,  4.30560119e-01,\n",
       "         -1.03853984e+00, -5.51756715e-02, -5.52625530e-02,\n",
       "          3.05495235e-01, -1.12698518e+00,  9.63271055e-01,\n",
       "         -1.36336571e-01],\n",
       "        [ 5.78584641e-02, -3.95618651e-02,  7.08383671e-01,\n",
       "         -1.75550284e-01,  6.12217837e-01, -3.76579370e-01,\n",
       "         -1.52657421e-01, -1.33076040e-01, -6.15696475e-01,\n",
       "         -1.16821863e-01],\n",
       "        [ 8.39243365e-02, -1.03443362e-01, -6.92766973e-01,\n",
       "         -1.05411259e-01,  1.08209887e-01, -2.51011958e-01,\n",
       "          1.03519592e-01, -6.53220749e-01,  9.29180728e-02,\n",
       "          1.03849139e+00],\n",
       "        [-1.94813478e-01,  2.14192870e-01, -5.03748037e-01,\n",
       "          1.15876117e+00, -9.89655985e-01, -4.70363705e-01,\n",
       "          3.94103860e-01,  2.35465571e-01, -3.23404513e-01,\n",
       "         -1.14363410e+00],\n",
       "        [ 4.18207934e-01, -2.65625797e-01,  2.36098339e-01,\n",
       "         -2.82608745e-01,  1.64916729e-01,  2.56878716e-01,\n",
       "         -3.69644937e-02, -5.82827826e-01,  3.43561692e-01,\n",
       "          6.55641103e-01],\n",
       "        [ 5.63735767e-01,  3.30273744e-01,  1.42533755e-01,\n",
       "         -5.89850471e-01,  1.22843981e-01, -3.63729689e-02,\n",
       "          2.92885510e-01, -6.17712130e-01,  1.15541521e+00,\n",
       "          8.90105606e-02],\n",
       "        [ 9.82712653e-01,  6.14488974e-04, -6.08963833e-02,\n",
       "          3.92857444e-01, -9.08643530e-01,  1.26783136e-01,\n",
       "         -3.31376879e-01, -3.21832327e-01,  9.35187648e-01,\n",
       "         -1.11759231e+00]]),\n",
       " array([[ 1.46089141, -0.97921424, -0.210146  ],\n",
       "        [ 0.18904132,  0.29671544,  0.73901977],\n",
       "        [-0.57760186,  0.93200672, -0.03673793],\n",
       "        [-0.08487673, -0.77534382,  1.56143632],\n",
       "        [-0.79059478,  0.98390112, -1.00546569],\n",
       "        [ 0.47068466,  0.67723857, -0.16426857],\n",
       "        [-0.54791545,  0.18409665, -0.07913588],\n",
       "        [-0.72384911,  0.4054649 ,  1.05430524],\n",
       "        [ 1.43743167, -0.07038398, -0.90125692],\n",
       "        [-1.02693581,  1.79943507, -1.09620978]])]"
      ]
     },
     "execution_count": 151,
     "metadata": {},
     "output_type": "execute_result"
    }
   ],
   "source": [
    "mlp.coefs_"
   ]
  },
  {
   "cell_type": "markdown",
   "id": "5c895ee1",
   "metadata": {},
   "source": [
    "## Extracting list of bias vectors"
   ]
  },
  {
   "cell_type": "code",
   "execution_count": 155,
   "id": "5441e3a1",
   "metadata": {},
   "outputs": [
    {
     "data": {
      "text/plain": [
       "[array([ 0.60189029, -0.08733099, -0.21452619, -0.05386426,  0.57212042,\n",
       "         0.22671561, -0.11500279,  0.29729471,  0.54522943,  0.67384716]),\n",
       " array([-0.07606666, -0.41325805, -0.49525205])]"
      ]
     },
     "execution_count": 155,
     "metadata": {},
     "output_type": "execute_result"
    }
   ],
   "source": [
    "mlp.intercepts_"
   ]
  }
 ],
 "metadata": {
  "kernelspec": {
   "display_name": "tensorflow_env",
   "language": "python",
   "name": "tensorflow_env"
  },
  "language_info": {
   "codemirror_mode": {
    "name": "ipython",
    "version": 3
   },
   "file_extension": ".py",
   "mimetype": "text/x-python",
   "name": "python",
   "nbconvert_exporter": "python",
   "pygments_lexer": "ipython3",
   "version": "3.9.6"
  }
 },
 "nbformat": 4,
 "nbformat_minor": 5
}
